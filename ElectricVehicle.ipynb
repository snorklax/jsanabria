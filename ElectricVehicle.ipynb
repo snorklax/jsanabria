{
  "nbformat": 4,
  "nbformat_minor": 0,
  "metadata": {
    "colab": {
      "provenance": [],
      "authorship_tag": "ABX9TyM8/GKtBGP/xX4UimlZPtjB",
      "include_colab_link": true
    },
    "kernelspec": {
      "name": "python3",
      "display_name": "Python 3"
    },
    "language_info": {
      "name": "python"
    }
  },
  "cells": [
    {
      "cell_type": "markdown",
      "metadata": {
        "id": "view-in-github",
        "colab_type": "text"
      },
      "source": [
        "<a href=\"https://colab.research.google.com/github/snorklax/jsanabria/blob/master/ElectricVehicle.ipynb\" target=\"_parent\"><img src=\"https://colab.research.google.com/assets/colab-badge.svg\" alt=\"Open In Colab\"/></a>"
      ]
    },
    {
      "cell_type": "code",
      "execution_count": 1,
      "metadata": {
        "colab": {
          "base_uri": "https://localhost:8080/"
        },
        "id": "SNd_kQLY_ubZ",
        "outputId": "722ae844-ef3e-4fa5-833e-ea5c05ec2972"
      },
      "outputs": [
        {
          "output_type": "stream",
          "name": "stdout",
          "text": [
            "Collecting kedro\n",
            "  Downloading kedro-0.19.13-py3-none-any.whl.metadata (14 kB)\n",
            "Requirement already satisfied: attrs>=21.3 in /usr/local/lib/python3.11/dist-packages (from kedro) (25.3.0)\n",
            "Requirement already satisfied: build>=0.7.0 in /usr/local/lib/python3.11/dist-packages (from kedro) (1.2.2.post1)\n",
            "Requirement already satisfied: cachetools>=4.1 in /usr/local/lib/python3.11/dist-packages (from kedro) (5.5.2)\n",
            "Collecting click<8.2.0,>=4.0 (from kedro)\n",
            "  Downloading click-8.1.8-py3-none-any.whl.metadata (2.3 kB)\n",
            "Collecting cookiecutter<3.0,>=2.1.1 (from kedro)\n",
            "  Downloading cookiecutter-2.6.0-py3-none-any.whl.metadata (7.3 kB)\n",
            "Collecting dynaconf<4.0,>=3.1.2 (from kedro)\n",
            "  Downloading dynaconf-3.2.11-py2.py3-none-any.whl.metadata (9.2 kB)\n",
            "Requirement already satisfied: fsspec>=2021.4 in /usr/local/lib/python3.11/dist-packages (from kedro) (2025.3.2)\n",
            "Requirement already satisfied: gitpython>=3.0 in /usr/local/lib/python3.11/dist-packages (from kedro) (3.1.44)\n",
            "Requirement already satisfied: importlib-metadata<9.0,>=3.6 in /usr/local/lib/python3.11/dist-packages (from kedro) (8.7.0)\n",
            "Requirement already satisfied: importlib_resources<7.0,>=1.3 in /usr/local/lib/python3.11/dist-packages (from kedro) (6.5.2)\n",
            "Collecting kedro-telemetry>=0.5.0 (from kedro)\n",
            "  Downloading kedro_telemetry-0.6.3-py3-none-any.whl.metadata (5.3 kB)\n",
            "Requirement already satisfied: more_itertools>=8.14.0 in /usr/local/lib/python3.11/dist-packages (from kedro) (10.7.0)\n",
            "Requirement already satisfied: omegaconf>=2.1.1 in /usr/local/lib/python3.11/dist-packages (from kedro) (2.3.0)\n",
            "Collecting parse>=1.19.0 (from kedro)\n",
            "  Downloading parse-1.20.2-py2.py3-none-any.whl.metadata (22 kB)\n",
            "Requirement already satisfied: pluggy>=1.0 in /usr/local/lib/python3.11/dist-packages (from kedro) (1.6.0)\n",
            "Collecting pre-commit-hooks (from kedro)\n",
            "  Downloading pre_commit_hooks-5.0.0-py2.py3-none-any.whl.metadata (10 kB)\n",
            "Requirement already satisfied: PyYAML<7.0,>=4.2 in /usr/local/lib/python3.11/dist-packages (from kedro) (6.0.2)\n",
            "Requirement already satisfied: rich<15.0,>=12.0 in /usr/local/lib/python3.11/dist-packages (from kedro) (13.9.4)\n",
            "Collecting rope<2.0,>=0.21 (from kedro)\n",
            "  Downloading rope-1.13.0-py3-none-any.whl.metadata (6.6 kB)\n",
            "Requirement already satisfied: toml>=0.10.0 in /usr/local/lib/python3.11/dist-packages (from kedro) (0.10.2)\n",
            "Requirement already satisfied: typing_extensions>=4.0 in /usr/local/lib/python3.11/dist-packages (from kedro) (4.13.2)\n",
            "Requirement already satisfied: packaging>=19.1 in /usr/local/lib/python3.11/dist-packages (from build>=0.7.0->kedro) (24.2)\n",
            "Requirement already satisfied: pyproject_hooks in /usr/local/lib/python3.11/dist-packages (from build>=0.7.0->kedro) (1.2.0)\n",
            "Collecting binaryornot>=0.4.4 (from cookiecutter<3.0,>=2.1.1->kedro)\n",
            "  Downloading binaryornot-0.4.4-py2.py3-none-any.whl.metadata (6.0 kB)\n",
            "Requirement already satisfied: Jinja2<4.0.0,>=2.7 in /usr/local/lib/python3.11/dist-packages (from cookiecutter<3.0,>=2.1.1->kedro) (3.1.6)\n",
            "Requirement already satisfied: python-slugify>=4.0.0 in /usr/local/lib/python3.11/dist-packages (from cookiecutter<3.0,>=2.1.1->kedro) (8.0.4)\n",
            "Requirement already satisfied: requests>=2.23.0 in /usr/local/lib/python3.11/dist-packages (from cookiecutter<3.0,>=2.1.1->kedro) (2.32.3)\n",
            "Collecting arrow (from cookiecutter<3.0,>=2.1.1->kedro)\n",
            "  Downloading arrow-1.3.0-py3-none-any.whl.metadata (7.5 kB)\n",
            "Requirement already satisfied: gitdb<5,>=4.0.1 in /usr/local/lib/python3.11/dist-packages (from gitpython>=3.0->kedro) (4.0.12)\n",
            "Requirement already satisfied: zipp>=3.20 in /usr/local/lib/python3.11/dist-packages (from importlib-metadata<9.0,>=3.6->kedro) (3.21.0)\n",
            "Collecting appdirs>=1.4.4 (from kedro-telemetry>=0.5.0->kedro)\n",
            "  Downloading appdirs-1.4.4-py2.py3-none-any.whl.metadata (9.0 kB)\n",
            "Requirement already satisfied: antlr4-python3-runtime==4.9.* in /usr/local/lib/python3.11/dist-packages (from omegaconf>=2.1.1->kedro) (4.9.3)\n",
            "Requirement already satisfied: markdown-it-py>=2.2.0 in /usr/local/lib/python3.11/dist-packages (from rich<15.0,>=12.0->kedro) (3.0.0)\n",
            "Requirement already satisfied: pygments<3.0.0,>=2.13.0 in /usr/local/lib/python3.11/dist-packages (from rich<15.0,>=12.0->kedro) (2.19.1)\n",
            "Collecting pytoolconfig>=1.2.2 (from pytoolconfig[global]>=1.2.2->rope<2.0,>=0.21->kedro)\n",
            "  Downloading pytoolconfig-1.3.1-py3-none-any.whl.metadata (1.4 kB)\n",
            "Collecting ruamel.yaml>=0.15 (from pre-commit-hooks->kedro)\n",
            "  Downloading ruamel.yaml-0.18.12-py3-none-any.whl.metadata (24 kB)\n",
            "Requirement already satisfied: chardet>=3.0.2 in /usr/local/lib/python3.11/dist-packages (from binaryornot>=0.4.4->cookiecutter<3.0,>=2.1.1->kedro) (5.2.0)\n",
            "Requirement already satisfied: smmap<6,>=3.0.1 in /usr/local/lib/python3.11/dist-packages (from gitdb<5,>=4.0.1->gitpython>=3.0->kedro) (5.0.2)\n",
            "Requirement already satisfied: MarkupSafe>=2.0 in /usr/local/lib/python3.11/dist-packages (from Jinja2<4.0.0,>=2.7->cookiecutter<3.0,>=2.1.1->kedro) (3.0.2)\n",
            "Requirement already satisfied: mdurl~=0.1 in /usr/local/lib/python3.11/dist-packages (from markdown-it-py>=2.2.0->rich<15.0,>=12.0->kedro) (0.1.2)\n",
            "Requirement already satisfied: text-unidecode>=1.3 in /usr/local/lib/python3.11/dist-packages (from python-slugify>=4.0.0->cookiecutter<3.0,>=2.1.1->kedro) (1.3)\n",
            "Requirement already satisfied: platformdirs>=3.11.0 in /usr/local/lib/python3.11/dist-packages (from pytoolconfig[global]>=1.2.2->rope<2.0,>=0.21->kedro) (4.3.8)\n",
            "Requirement already satisfied: charset-normalizer<4,>=2 in /usr/local/lib/python3.11/dist-packages (from requests>=2.23.0->cookiecutter<3.0,>=2.1.1->kedro) (3.4.2)\n",
            "Requirement already satisfied: idna<4,>=2.5 in /usr/local/lib/python3.11/dist-packages (from requests>=2.23.0->cookiecutter<3.0,>=2.1.1->kedro) (3.10)\n",
            "Requirement already satisfied: urllib3<3,>=1.21.1 in /usr/local/lib/python3.11/dist-packages (from requests>=2.23.0->cookiecutter<3.0,>=2.1.1->kedro) (2.4.0)\n",
            "Requirement already satisfied: certifi>=2017.4.17 in /usr/local/lib/python3.11/dist-packages (from requests>=2.23.0->cookiecutter<3.0,>=2.1.1->kedro) (2025.4.26)\n",
            "Collecting ruamel.yaml.clib>=0.2.7 (from ruamel.yaml>=0.15->pre-commit-hooks->kedro)\n",
            "  Downloading ruamel.yaml.clib-0.2.12-cp311-cp311-manylinux_2_17_x86_64.manylinux2014_x86_64.whl.metadata (2.7 kB)\n",
            "Requirement already satisfied: python-dateutil>=2.7.0 in /usr/local/lib/python3.11/dist-packages (from arrow->cookiecutter<3.0,>=2.1.1->kedro) (2.9.0.post0)\n",
            "Collecting types-python-dateutil>=2.8.10 (from arrow->cookiecutter<3.0,>=2.1.1->kedro)\n",
            "  Downloading types_python_dateutil-2.9.0.20250516-py3-none-any.whl.metadata (2.1 kB)\n",
            "Requirement already satisfied: six>=1.5 in /usr/local/lib/python3.11/dist-packages (from python-dateutil>=2.7.0->arrow->cookiecutter<3.0,>=2.1.1->kedro) (1.17.0)\n",
            "Downloading kedro-0.19.13-py3-none-any.whl (198 kB)\n",
            "\u001b[2K   \u001b[90m━━━━━━━━━━━━━━━━━━━━━━━━━━━━━━━━━━━━━━━━\u001b[0m \u001b[32m198.6/198.6 kB\u001b[0m \u001b[31m5.7 MB/s\u001b[0m eta \u001b[36m0:00:00\u001b[0m\n",
            "\u001b[?25hDownloading click-8.1.8-py3-none-any.whl (98 kB)\n",
            "\u001b[2K   \u001b[90m━━━━━━━━━━━━━━━━━━━━━━━━━━━━━━━━━━━━━━━━\u001b[0m \u001b[32m98.2/98.2 kB\u001b[0m \u001b[31m6.3 MB/s\u001b[0m eta \u001b[36m0:00:00\u001b[0m\n",
            "\u001b[?25hDownloading cookiecutter-2.6.0-py3-none-any.whl (39 kB)\n",
            "Downloading dynaconf-3.2.11-py2.py3-none-any.whl (236 kB)\n",
            "\u001b[2K   \u001b[90m━━━━━━━━━━━━━━━━━━━━━━━━━━━━━━━━━━━━━━━━\u001b[0m \u001b[32m236.5/236.5 kB\u001b[0m \u001b[31m14.9 MB/s\u001b[0m eta \u001b[36m0:00:00\u001b[0m\n",
            "\u001b[?25hDownloading kedro_telemetry-0.6.3-py3-none-any.whl (9.5 kB)\n",
            "Downloading parse-1.20.2-py2.py3-none-any.whl (20 kB)\n",
            "Downloading rope-1.13.0-py3-none-any.whl (206 kB)\n",
            "\u001b[2K   \u001b[90m━━━━━━━━━━━━━━━━━━━━━━━━━━━━━━━━━━━━━━━━\u001b[0m \u001b[32m206.5/206.5 kB\u001b[0m \u001b[31m13.6 MB/s\u001b[0m eta \u001b[36m0:00:00\u001b[0m\n",
            "\u001b[?25hDownloading pre_commit_hooks-5.0.0-py2.py3-none-any.whl (41 kB)\n",
            "\u001b[2K   \u001b[90m━━━━━━━━━━━━━━━━━━━━━━━━━━━━━━━━━━━━━━━━\u001b[0m \u001b[32m41.2/41.2 kB\u001b[0m \u001b[31m2.2 MB/s\u001b[0m eta \u001b[36m0:00:00\u001b[0m\n",
            "\u001b[?25hDownloading appdirs-1.4.4-py2.py3-none-any.whl (9.6 kB)\n",
            "Downloading binaryornot-0.4.4-py2.py3-none-any.whl (9.0 kB)\n",
            "Downloading pytoolconfig-1.3.1-py3-none-any.whl (17 kB)\n",
            "Downloading ruamel.yaml-0.18.12-py3-none-any.whl (118 kB)\n",
            "\u001b[2K   \u001b[90m━━━━━━━━━━━━━━━━━━━━━━━━━━━━━━━━━━━━━━━━\u001b[0m \u001b[32m118.4/118.4 kB\u001b[0m \u001b[31m7.6 MB/s\u001b[0m eta \u001b[36m0:00:00\u001b[0m\n",
            "\u001b[?25hDownloading arrow-1.3.0-py3-none-any.whl (66 kB)\n",
            "\u001b[2K   \u001b[90m━━━━━━━━━━━━━━━━━━━━━━━━━━━━━━━━━━━━━━━━\u001b[0m \u001b[32m66.4/66.4 kB\u001b[0m \u001b[31m4.2 MB/s\u001b[0m eta \u001b[36m0:00:00\u001b[0m\n",
            "\u001b[?25hDownloading ruamel.yaml.clib-0.2.12-cp311-cp311-manylinux_2_17_x86_64.manylinux2014_x86_64.whl (739 kB)\n",
            "\u001b[2K   \u001b[90m━━━━━━━━━━━━━━━━━━━━━━━━━━━━━━━━━━━━━━━━\u001b[0m \u001b[32m739.1/739.1 kB\u001b[0m \u001b[31m26.9 MB/s\u001b[0m eta \u001b[36m0:00:00\u001b[0m\n",
            "\u001b[?25hDownloading types_python_dateutil-2.9.0.20250516-py3-none-any.whl (14 kB)\n",
            "Installing collected packages: parse, appdirs, types-python-dateutil, ruamel.yaml.clib, pytoolconfig, dynaconf, click, binaryornot, ruamel.yaml, arrow, rope, pre-commit-hooks, cookiecutter, kedro-telemetry, kedro\n",
            "  Attempting uninstall: click\n",
            "    Found existing installation: click 8.2.1\n",
            "    Uninstalling click-8.2.1:\n",
            "      Successfully uninstalled click-8.2.1\n",
            "Successfully installed appdirs-1.4.4 arrow-1.3.0 binaryornot-0.4.4 click-8.1.8 cookiecutter-2.6.0 dynaconf-3.2.11 kedro-0.19.13 kedro-telemetry-0.6.3 parse-1.20.2 pre-commit-hooks-5.0.0 pytoolconfig-1.3.1 rope-1.13.0 ruamel.yaml-0.18.12 ruamel.yaml.clib-0.2.12 types-python-dateutil-2.9.0.20250516\n"
          ]
        }
      ],
      "source": [
        "pip install kedro\n"
      ]
    },
    {
      "cell_type": "code",
      "source": [
        "kedro new\n"
      ],
      "metadata": {
        "colab": {
          "base_uri": "https://localhost:8080/",
          "height": 106
        },
        "id": "pZPHx6iLAKrV",
        "outputId": "38ddad03-4bd0-4c48-e57c-c403d56bcbee"
      },
      "execution_count": 2,
      "outputs": [
        {
          "output_type": "error",
          "ename": "SyntaxError",
          "evalue": "invalid syntax (<ipython-input-2-04aeb7a997b0>, line 1)",
          "traceback": [
            "\u001b[0;36m  File \u001b[0;32m\"<ipython-input-2-04aeb7a997b0>\"\u001b[0;36m, line \u001b[0;32m1\u001b[0m\n\u001b[0;31m    kedro new\u001b[0m\n\u001b[0m          ^\u001b[0m\n\u001b[0;31mSyntaxError\u001b[0m\u001b[0;31m:\u001b[0m invalid syntax\n"
          ]
        }
      ]
    }
  ]
}